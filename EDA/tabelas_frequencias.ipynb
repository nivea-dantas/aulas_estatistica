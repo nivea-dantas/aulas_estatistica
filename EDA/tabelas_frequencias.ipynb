{
 "cells": [
  {
   "cell_type": "code",
   "execution_count": 1,
   "metadata": {},
   "outputs": [],
   "source": [
    "import pandas as pd\n",
    "import numpy as np"
   ]
  },
  {
   "cell_type": "code",
   "execution_count": 2,
   "metadata": {},
   "outputs": [],
   "source": [
    "def tabulacao_categoricos(df, coluna, dropna= True):\n",
    "\n",
    "    tabulacao_categoricos = pd.DataFrame(data = df[coluna].value_counts(dropna = dropna)).reset_index().rename(columns = {'index': coluna, coluna:'Frequencia_abs'})\n",
    "    tabulacao_categoricos['frequencia_relativa'] = [i/tabulacao_categoricos['Frequencia_abs'].sum() for i in tabulacao_categoricos['Frequencia_abs']]\n",
    "    var = 0\n",
    "    feature = []\n",
    "    for i in tabulacao_categoricos['Frequencia_abs']:\n",
    "        var += i\n",
    "        feature.append(var)\n",
    "    tabulacao_categoricos['frequencia_acumulada'] = feature\n",
    "    \n",
    "    return tabulacao_categoricos"
   ]
  },
  {
   "cell_type": "code",
   "execution_count": 3,
   "metadata": {},
   "outputs": [],
   "source": [
    "def tabulacao_numericas(df, coluna): # adicionar a freuencia acumulada percentual.\n",
    "    \n",
    "    tabulacao = list(df[coluna].dropna())\n",
    "    tabulacao.sort()\n",
    "    amplitude = max(tabulacao) - min(tabulacao)\n",
    "    k = round(np.sqrt(len(tabulacao)),0)\n",
    "    h = round(amplitude/k)\n",
    "    limite_inferior = 0\n",
    "    limite_superior = h\n",
    "    lista_apoio = []\n",
    "    while limite_superior <= max(tabulacao):\n",
    "        slicing = [x for x  in tabulacao if x < limite_superior]\n",
    "        f_abs = len(slicing)\n",
    "        intervalo = [limite_inferior, limite_superior, f_abs]\n",
    "        lista_apoio.append(intervalo)\n",
    "        limite_inferior = limite_superior\n",
    "        limite_superior += h\n",
    "    tabela_analise = pd.DataFrame(data= lista_apoio, columns=['limite_inferior', 'limite_superior', 'frequencia_abs'])\n",
    "    tabela_analise['frequencia_relativa'] = [i/tabela_analise['frequencia_abs'].sum() for i in tabela_analise['frequencia_abs']]\n",
    "    var = 0\n",
    "    feature = []\n",
    "    for i in tabela_analise['frequencia_abs']:\n",
    "        var += i\n",
    "        feature.append(var)\n",
    "    tabela_analise['frequencia_acumulada'] = feature\n",
    "    return tabela_analise"
   ]
  },
  {
   "cell_type": "code",
   "execution_count": 4,
   "metadata": {},
   "outputs": [],
   "source": [
    "df = pd.DataFrame(data=[1.724,1.725,1.726,1.727,1.727,1.728,1.728,1.729,1.729,1.73,1.73,1.73,1.731,1.731,1.732,1.732,1.732,1.732,1.732,1.733,1.733,1.733,1.734,1.734,1.734,1.734,1.735,1.735,1.735,1.735,1.735,1.735,1.735,1.735,1.736,1.736,1.736,1.736,1.736,1.736,1.737,1.737,1.737,1.738,1.738,1.738,1.739,1.739,1.739,1.74,1.74,1.74,1.741,1.741,1.742,1.742,1.743,1.744,1.745,1.746], columns=['Rolamento'])"
   ]
  }
 ],
 "metadata": {
  "kernelspec": {
   "display_name": "Python 3",
   "language": "python",
   "name": "python3"
  },
  "language_info": {
   "codemirror_mode": {
    "name": "ipython",
    "version": 3
   },
   "file_extension": ".py",
   "mimetype": "text/x-python",
   "name": "python",
   "nbconvert_exporter": "python",
   "pygments_lexer": "ipython3",
   "version": "3.10.4 (tags/v3.10.4:9d38120, Mar 23 2022, 23:13:41) [MSC v.1929 64 bit (AMD64)]"
  },
  "orig_nbformat": 4,
  "vscode": {
   "interpreter": {
    "hash": "b23e96e9000235e1d8fba2639f011a7c795a3ab50ce0f28a1a9cb5c7362660a5"
   }
  }
 },
 "nbformat": 4,
 "nbformat_minor": 2
}
