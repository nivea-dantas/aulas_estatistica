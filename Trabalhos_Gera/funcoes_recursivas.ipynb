{
 "cells": [
  {
   "cell_type": "code",
   "execution_count": 104,
   "metadata": {},
   "outputs": [],
   "source": [
    "import numpy as np\n",
    "from itertools import permutations\n",
    "from itertools import combinations\n",
    "import xlwt"
   ]
  },
  {
   "cell_type": "code",
   "execution_count": 113,
   "metadata": {},
   "outputs": [],
   "source": [
    "def chama_menu(menu):\n",
    "    if menu == 1:\n",
    "        print('Você escolheu identificar os numeros primos.')\n",
    "        return retorno_funcao1()\n",
    "    elif menu == 2:\n",
    "        print('Você escolheu Número de Representações')\n",
    "        return retorno_funcao2()\n",
    "    elif menu == 3:\n",
    "        print('Você escolheu a Conjectura de Collatz')\n",
    "        return retorno_funcao3()\n",
    "\n",
    "\n",
    "#função numero primo - recursiva\n",
    "def numero_primo(numero, i=2):\n",
    "    if numero == i:\n",
    "        return True\n",
    "    elif numero % i == 0:\n",
    "        return False\n",
    "    return numero_primo(numero, i+1)\n",
    "\n",
    "# FUnção recursiva  Numero Primo\n",
    "def retorno_funcao1():\n",
    "    n = int(input(print('Digite um número qualquer:')))\n",
    "    retorno = numero_primo(n)\n",
    "    print(retorno)\n",
    "\n",
    "#função representação\n",
    "def representacao(n,p):\n",
    "    termos = list(np.arange(1,n ** (1/p))**p)\n",
    "    resultados=[]\n",
    "    for i in range(len(termos)):\n",
    "        c = list(combinations(termos, i+1))\n",
    "        unq = list(set(c))\n",
    "        for zeta in range(len(unq)):\n",
    "                if sum(unq[zeta])==n:\n",
    "                    resultados.append(unq[zeta])\n",
    "    return resultados\n",
    "\n",
    "#recursiva de representação\n",
    "def retorno_funcao2():\n",
    "    n = int(input('Informe o valor do denominador:'))\n",
    "    p = int(input('Informe o valor do expoente:'))\n",
    "    resultado = representacao(n,p)\n",
    "    if len(resultado) != 0:\n",
    "        print(len(resultado[0]))\n",
    "    elif len(resultado) == 0:\n",
    "        print('Não existe possibilidades possíveis para a representação')\n",
    "    \n",
    "#função collatz - main\n",
    "def collats(n):\n",
    "    cont = [n]\n",
    "    if n == 1:\n",
    "        return cont\n",
    "    elif n % 2 == 0:\n",
    "        cont.extend(collats(int(n/2)))\n",
    "    else:\n",
    "        cont.extend(collats(int(3*n+1)))\n",
    "    return cont\n",
    "\n",
    "#recursiva\n",
    "def retorno_funcao3():\n",
    "    n = int(input(print('Digite qualquer valor:')))\n",
    "    RETORNO = collats(n)[-1] == 1\n",
    "    print(RETORNO)\n"
   ]
  },
  {
   "cell_type": "code",
   "execution_count": 114,
   "metadata": {},
   "outputs": [
    {
     "name": "stdout",
     "output_type": "stream",
     "text": [
      "#####################################\n",
      "#                MENU               #\n",
      "#####################################\n",
      "\n",
      "\n",
      "1 - Verifica Primo\n",
      "2 - Número de Representações\n",
      "3 - Conjectura Collatz\n",
      "\n",
      "\n"
     ]
    }
   ],
   "source": [
    "print('#####################################')\n",
    "print('#                MENU               #')\n",
    "print('#####################################')\n",
    "print('\\n')\n",
    "print('1 - Verifica Primo')\n",
    "print('2 - Número de Representações')\n",
    "print('3 - Conjectura Collatz')\n",
    "print('\\n')\n",
    "#escolhendo a função\n"
   ]
  },
  {
   "cell_type": "code",
   "execution_count": 121,
   "metadata": {},
   "outputs": [
    {
     "name": "stdout",
     "output_type": "stream",
     "text": [
      "Você escolheu a Conjectura de Collatz\n",
      "Digite qualquer valor:\n",
      "A afirmação é True\n"
     ]
    }
   ],
   "source": [
    "if __name__ == \"__main__\":\n",
    "    menu = int(input('Insira a opção desejada:'))\n",
    "    funcao = chama_menu(menu)"
   ]
  },
  {
   "cell_type": "code",
   "execution_count": 122,
   "metadata": {},
   "outputs": [
    {
     "name": "stdout",
     "output_type": "stream",
     "text": [
      "#####################################\n",
      "#                MENU               #\n",
      "#####################################\n",
      "\n",
      "\n",
      "1 - Verifica Primo\n",
      "2 - Número de Representações\n",
      "3 - Conjectura Collatz\n",
      "\n",
      "\n",
      "Você escolheu a Conjectura de Collatz\n",
      "A afirmação é True\n"
     ]
    }
   ],
   "source": [
    "#imports\n",
    "import numpy as np\n",
    "from itertools import permutations\n",
    "from itertools import combinations\n",
    "import xlwt\n",
    "\n",
    "def chama_menu(menu):\n",
    "    if menu == 1:\n",
    "        print('Você escolheu identificar os numeros primos.')\n",
    "        return retorno_funcao1()\n",
    "    elif menu == 2:\n",
    "        print('Você escolheu Número de Representações')\n",
    "        return retorno_funcao2()\n",
    "    elif menu == 3:\n",
    "        print('Você escolheu a Conjectura de Collatz')\n",
    "        return retorno_funcao3()\n",
    "\n",
    "\n",
    "#função numero primo - recursiva\n",
    "def numero_primo(numero, i=2):\n",
    "    if numero == i:\n",
    "        return True\n",
    "    elif numero % i == 0:\n",
    "        return False\n",
    "    return numero_primo(numero, i+1)\n",
    "\n",
    "# FUnção recursiva  Numero Primo\n",
    "def retorno_funcao1():\n",
    "    n = int(input('Digite um número qualquer:'))\n",
    "    retorno = numero_primo(n)\n",
    "    print('A afirmação é',retorno)\n",
    "\n",
    "#função representação\n",
    "def representacao(n,p):\n",
    "    termos = list(np.arange(1,n ** (1/p))**p)\n",
    "    resultados=[]\n",
    "    for i in range(len(termos)):\n",
    "        c = list(combinations(termos, i+1))\n",
    "        unq = list(set(c))\n",
    "        for zeta in range(len(unq)):\n",
    "                if sum(unq[zeta])==n:\n",
    "                    resultados.append(unq[zeta])\n",
    "    return resultados\n",
    "\n",
    "#recursiva de representação\n",
    "def retorno_funcao2():\n",
    "    n = int(input('Informe o valor do denominador:'))\n",
    "    p = int(input('Informe o valor do expoente:'))\n",
    "    resultado = representacao(n,p)\n",
    "    if len(resultado) != 0:\n",
    "        print('O número de termos possíveis é',len(resultado[0]))\n",
    "    elif len(resultado) == 0:\n",
    "        print('Não existe possibilidades possíveis para a representação')\n",
    "    \n",
    "#função collatz - main\n",
    "def collats(n):\n",
    "    cont = [n]\n",
    "    if n == 1:\n",
    "        return cont\n",
    "    elif n % 2 == 0:\n",
    "        cont.extend(collats(int(n/2)))\n",
    "    else:\n",
    "        cont.extend(collats(int(3*n+1)))\n",
    "    return cont\n",
    "\n",
    "#recursiva\n",
    "def retorno_funcao3():\n",
    "    n = int(input('Digite qualquer valor:'))\n",
    "    RETORNO = collats(n)[-1] == 1\n",
    "    print('A afirmação é',RETORNO)\n",
    "\n",
    "\n",
    "print('#####################################')\n",
    "print('#                MENU               #')\n",
    "print('#####################################')\n",
    "print('\\n')\n",
    "print('1 - Verifica Primo')\n",
    "print('2 - Número de Representações')\n",
    "print('3 - Conjectura Collatz')\n",
    "print('\\n')\n",
    "\n",
    "\n",
    "if __name__ == \"__main__\":\n",
    "    menu = int(input('Insira a opção desejada:'))\n",
    "    funcao = chama_menu(menu)"
   ]
  },
  {
   "cell_type": "code",
   "execution_count": null,
   "metadata": {},
   "outputs": [],
   "source": []
  }
 ],
 "metadata": {
  "kernelspec": {
   "display_name": "Python 3",
   "language": "python",
   "name": "python3"
  },
  "language_info": {
   "codemirror_mode": {
    "name": "ipython",
    "version": 3
   },
   "file_extension": ".py",
   "mimetype": "text/x-python",
   "name": "python",
   "nbconvert_exporter": "python",
   "pygments_lexer": "ipython3",
   "version": "3.10.4 (tags/v3.10.4:9d38120, Mar 23 2022, 23:13:41) [MSC v.1929 64 bit (AMD64)]"
  },
  "orig_nbformat": 4,
  "vscode": {
   "interpreter": {
    "hash": "b23e96e9000235e1d8fba2639f011a7c795a3ab50ce0f28a1a9cb5c7362660a5"
   }
  }
 },
 "nbformat": 4,
 "nbformat_minor": 2
}
