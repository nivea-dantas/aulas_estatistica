{
 "cells": [
  {
   "cell_type": "code",
   "execution_count": 174,
   "metadata": {},
   "outputs": [],
   "source": [
    "import pandas as pd\n",
    "import matplotlib.pyplot as plt\n",
    "import numpy as np"
   ]
  },
  {
   "cell_type": "code",
   "execution_count": 175,
   "metadata": {},
   "outputs": [],
   "source": [
    "df = pd.read_csv('Iris.csv', sep= ',')"
   ]
  },
  {
   "cell_type": "code",
   "execution_count": 180,
   "metadata": {},
   "outputs": [],
   "source": [
    "def retorno_funcao3():\n",
    "    species = list(df['Species'].unique())\n",
    "    species_size = list(df['Species'].value_counts())\n",
    "    figura, ax = plt.subplots()\n",
    "    figura.set_size_inches(10, 10)\n",
    "    ax.pie(species_size, labels=species, autopct='%1.2f', startangle=90)\n",
    "    ax.axis('equal')\n",
    "    plt.show()"
   ]
  },
  {
   "cell_type": "markdown",
   "metadata": {},
   "source": [
    "species = df['Species'].value_counts()\n",
    "ax=plt.subplots(1,1,figsize=(10,8))\n",
    "species.plot.pie()\n",
    "#pie(species, autopct='%1.1f%%',figsize=(10,8))\n",
    "#plt.title(\"Iris Species %\")\n",
    "#plt.show()"
   ]
  },
  {
   "cell_type": "code",
   "execution_count": 181,
   "metadata": {},
   "outputs": [],
   "source": [
    "def retorno_funcao4():\n",
    "    Setosa = df[df['Species'] == 'Iris-setosa']\n",
    "    Versicolor = df[df['Species'] == 'Iris-versicolor']\n",
    "    Virginica = df[df['Species'] == 'Iris-virginica']\n",
    "    fig, ax = plt.subplots()\n",
    "    fig.set_size_inches(10, 10)\n",
    "\n",
    "    ax.scatter(Versicolor['PetalLengthCm'], Versicolor['PetalWidthCm'], label='Versicolor').set_facecolor('green')\n",
    "    ax.scatter(Setosa['PetalLengthCm'], Setosa['PetalWidthCm'], label='Setosa').set_facecolor('blue')\n",
    "    ax.scatter(Virginica['PetalLengthCm'], Virginica['PetalWidthCm'], label='Virginica').set_facecolor('red')\n",
    "    ax.set_xlabel('Petal Length (cm)')\n",
    "    ax.set_ylabel('Petal Width (cm)')\n",
    "    ax.set_title('Tamanho das pétalas Íris')\n",
    "    ax.legend(loc='lower right')\n",
    "    plt.show()"
   ]
  },
  {
   "cell_type": "code",
   "execution_count": 182,
   "metadata": {},
   "outputs": [],
   "source": [
    "def chama_menu(menu):\n",
    "    if menu == 1:\n",
    "        return print('Formato dos dados:\\n',df.shape,'\\n \\nPrimeiras linhas:\\n', df.head())\n",
    "    elif menu == 2:\n",
    "        return print(df.describe())\n",
    "    elif menu == 3:\n",
    "        return retorno_funcao3()\n",
    "    elif menu == 4:\n",
    "        return retorno_funcao4()"
   ]
  },
  {
   "cell_type": "code",
   "execution_count": 183,
   "metadata": {},
   "outputs": [
    {
     "name": "stdout",
     "output_type": "stream",
     "text": [
      "#####################################\n",
      "#                MENU               #\n",
      "#####################################\n",
      "\n",
      "\n",
      "1 - Formato dos dados e primeiras linhas\n",
      "2 - Estatística\n",
      "3 - Frequência das espécies\n",
      "3 - Relação entre comprimeiro e largura das pétalas\n",
      "\n",
      "\n"
     ]
    }
   ],
   "source": [
    "print('#####################################')\n",
    "print('#                MENU               #')\n",
    "print('#####################################')\n",
    "print('\\n')\n",
    "print('1 - Formato dos dados e primeiras linhas')\n",
    "print('2 - Estatística')\n",
    "print('3 - Frequência das espécies')\n",
    "print('3 - Relação entre comprimeiro e largura das pétalas')\n",
    "print('\\n')\n",
    "#escolhendo a função"
   ]
  },
  {
   "cell_type": "code",
   "execution_count": 185,
   "metadata": {},
   "outputs": [
    {
     "data": {
      "image/png": "[encoded data removed]",
      "text/plain": [
       "<Figure size 720x720 with 1 Axes>"
      ]
     },
     "metadata": {
      "needs_background": "light"
     },
     "output_type": "display_data"
    }
   ],
   "source": [
    "if __name__ == \"__main__\":\n",
    "    menu = int(input('Insira a opção desejada:'))\n",
    "    funcao = chama_menu(menu)"
   ]
  },
  {
   "cell_type": "code",
   "execution_count": null,
   "metadata": {},
   "outputs": [],
   "source": []
  }
 ],
 "metadata": {
  "kernelspec": {
   "display_name": "Python 3",
   "language": "python",
   "name": "python3"
  },
  "language_info": {
   "codemirror_mode": {
    "name": "ipython",
    "version": 3
   },
   "file_extension": ".py",
   "mimetype": "text/x-python",
   "name": "python",
   "nbconvert_exporter": "python",
   "pygments_lexer": "ipython3",
   "version": "3.10.4"
  },
  "orig_nbformat": 4,
  "vscode": {
   "interpreter": {
    "hash": "b23e96e9000235e1d8fba2639f011a7c795a3ab50ce0f28a1a9cb5c7362660a5"
   }
  }
 },
 "nbformat": 4,
 "nbformat_minor": 2
}
