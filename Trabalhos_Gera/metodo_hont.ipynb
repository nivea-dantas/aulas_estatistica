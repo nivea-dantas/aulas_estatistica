{
 "cells": [
  {
   "cell_type": "code",
   "execution_count": 372,
   "metadata": {},
   "outputs": [],
   "source": [
    "def dhont(lugares,votos):\n",
    "\n",
    "    t_votos=votos.copy()\n",
    "    assentos={}\n",
    "    resultados = []\n",
    "    #for key in votos: assentos[key]=0\n",
    "    while sum(assentos.values()) < lugares:\n",
    "        max_v= max(t_votos.values())\n",
    "        next_seat=list(t_votos.keys())[list(t_votos.values()).index(max_v)]\n",
    "        if next_seat in assentos:\n",
    "            assentos[next_seat]+=1\n",
    "        else:\n",
    "            assentos[next_seat]=1\n",
    "        \n",
    "        \n",
    "        print(\"{} Ronda: {}\".format(sum(assentos.values()),next_seat))\n",
    "        for key in t_votos:\n",
    "            print(\"\\t{} [{}]: {:.1f}\".format(key,assentos[key],t_votos[key]))\n",
    "        print(\"\\b\")\n",
    "        t_votos[next_seat]=votos[next_seat]/(assentos[next_seat]+1)\n",
    "        resultados = list(assentos.items())\n",
    "    return resultados"
   ]
  },
  {
   "cell_type": "code",
   "execution_count": 515,
   "metadata": {},
   "outputs": [],
   "source": [
    "\n",
    "def metodo_dhont(nlugares, votos):\n",
    "    '''\n",
    "    nlugares = valor inteiro da quantidade de assentos\n",
    "    votos = dicionario de valores com o somatorio dos votos totais de cada partido. ex = {'a': 655, 'b': 465, 'c': 300, 'g': 785}\n",
    "    outputs = Rondas, seus respectivos votos e assentos garantidos, assim como um overview final do panorama.\n",
    "    '''\n",
    "    ronda = {} #cria dicionário com valores dos partidos zerados.\n",
    "    for key in votos:\n",
    "        ronda[key] = 0\n",
    "    n_ronda = 0 #contador da ronda\n",
    "    dicionario_substituto = votos.copy() # copia do dicionário para substituir o maior valor pela sua divisão.\n",
    "    for i in range(nlugares): #loop para contar os assentos dentro do dicionário ronda\n",
    "        lugar = max(dicionario_substituto.values()) #pega o valor maximo do dicionário copiado para contar a seleção substituir valores\n",
    "        assento_selecionado = max(dicionario_substituto, key=dicionario_substituto.get) # pega a chave do valor que será contado e substituido\n",
    "        if assento_selecionado in ronda: #condicional que verifica se já existir algum item dentro do dicionário ele somará + 1 valor\n",
    "            ronda[assento_selecionado] += 1\n",
    "        else: # condicional que se caso não exista a chave dentro da ronda, ela é criada e seu valor recebe 1 \n",
    "            ronda[assento_selecionado] = 1\n",
    "        dicionario_substituto[assento_selecionado] = votos[assento_selecionado]/(ronda[assento_selecionado]+1) #extrai o coeficiente de votação e o isere dentro da chave relativa.\n",
    "        n_ronda +=1\n",
    "        #impressão das parciais\n",
    "        print(f'Ronda Número {n_ronda}: Condidato eleito do partido: {assento_selecionado}')\n",
    "        for key in dicionario_substituto:\n",
    "            print(f' Partido: {key} - {dicionario_substituto[key]} votos. {ronda[key]} candidatos eleitos. \\n')\n",
    "    resultados = list(ronda.items())\n",
    "    return print(f'O numero de Candidatos dos partidos concorentes foi de {resultados}')"
   ]
  },
  {
   "cell_type": "code",
   "execution_count": 516,
   "metadata": {},
   "outputs": [
    {
     "name": "stdout",
     "output_type": "stream",
     "text": [
      "Ronda Número 1: Condidato eleito do partido: g\n",
      " Partido: a - 655 votos. 0 candidatos eleitos. \n",
      "\n",
      " Partido: b - 465 votos. 0 candidatos eleitos. \n",
      "\n",
      " Partido: c - 300 votos. 0 candidatos eleitos. \n",
      "\n",
      " Partido: g - 392.5 votos. 1 candidatos eleitos. \n",
      "\n",
      "Ronda Número 2: Condidato eleito do partido: a\n",
      " Partido: a - 327.5 votos. 1 candidatos eleitos. \n",
      "\n",
      " Partido: b - 465 votos. 0 candidatos eleitos. \n",
      "\n",
      " Partido: c - 300 votos. 0 candidatos eleitos. \n",
      "\n",
      " Partido: g - 392.5 votos. 1 candidatos eleitos. \n",
      "\n",
      "Ronda Número 3: Condidato eleito do partido: b\n",
      " Partido: a - 327.5 votos. 1 candidatos eleitos. \n",
      "\n",
      " Partido: b - 232.5 votos. 1 candidatos eleitos. \n",
      "\n",
      " Partido: c - 300 votos. 0 candidatos eleitos. \n",
      "\n",
      " Partido: g - 392.5 votos. 1 candidatos eleitos. \n",
      "\n",
      "Ronda Número 4: Condidato eleito do partido: g\n",
      " Partido: a - 327.5 votos. 1 candidatos eleitos. \n",
      "\n",
      " Partido: b - 232.5 votos. 1 candidatos eleitos. \n",
      "\n",
      " Partido: c - 300 votos. 0 candidatos eleitos. \n",
      "\n",
      " Partido: g - 261.6666666666667 votos. 2 candidatos eleitos. \n",
      "\n",
      "Ronda Número 5: Condidato eleito do partido: a\n",
      " Partido: a - 218.33333333333334 votos. 2 candidatos eleitos. \n",
      "\n",
      " Partido: b - 232.5 votos. 1 candidatos eleitos. \n",
      "\n",
      " Partido: c - 300 votos. 0 candidatos eleitos. \n",
      "\n",
      " Partido: g - 261.6666666666667 votos. 2 candidatos eleitos. \n",
      "\n",
      "Ronda Número 6: Condidato eleito do partido: c\n",
      " Partido: a - 218.33333333333334 votos. 2 candidatos eleitos. \n",
      "\n",
      " Partido: b - 232.5 votos. 1 candidatos eleitos. \n",
      "\n",
      " Partido: c - 150.0 votos. 1 candidatos eleitos. \n",
      "\n",
      " Partido: g - 261.6666666666667 votos. 2 candidatos eleitos. \n",
      "\n",
      "Ronda Número 7: Condidato eleito do partido: g\n",
      " Partido: a - 218.33333333333334 votos. 2 candidatos eleitos. \n",
      "\n",
      " Partido: b - 232.5 votos. 1 candidatos eleitos. \n",
      "\n",
      " Partido: c - 150.0 votos. 1 candidatos eleitos. \n",
      "\n",
      " Partido: g - 196.25 votos. 3 candidatos eleitos. \n",
      "\n",
      "Ronda Número 8: Condidato eleito do partido: b\n",
      " Partido: a - 218.33333333333334 votos. 2 candidatos eleitos. \n",
      "\n",
      " Partido: b - 155.0 votos. 2 candidatos eleitos. \n",
      "\n",
      " Partido: c - 150.0 votos. 1 candidatos eleitos. \n",
      "\n",
      " Partido: g - 196.25 votos. 3 candidatos eleitos. \n",
      "\n",
      "Ronda Número 9: Condidato eleito do partido: a\n",
      " Partido: a - 163.75 votos. 3 candidatos eleitos. \n",
      "\n",
      " Partido: b - 155.0 votos. 2 candidatos eleitos. \n",
      "\n",
      " Partido: c - 150.0 votos. 1 candidatos eleitos. \n",
      "\n",
      " Partido: g - 196.25 votos. 3 candidatos eleitos. \n",
      "\n",
      "Ronda Número 10: Condidato eleito do partido: g\n",
      " Partido: a - 163.75 votos. 3 candidatos eleitos. \n",
      "\n",
      " Partido: b - 155.0 votos. 2 candidatos eleitos. \n",
      "\n",
      " Partido: c - 150.0 votos. 1 candidatos eleitos. \n",
      "\n",
      " Partido: g - 157.0 votos. 4 candidatos eleitos. \n",
      "\n",
      "O numero de Candidatos dos partidos concorentes foi de [('a', 3), ('b', 2), ('c', 1), ('g', 4)]\n"
     ]
    }
   ],
   "source": [
    "metodo_dhont(10, {'a': 655, 'b': 465, 'c': 300, 'g': 785})"
   ]
  },
  {
   "cell_type": "code",
   "execution_count": 309,
   "metadata": {},
   "outputs": [],
   "source": [
    "df = pd.DataFrame([votos])\n",
    "index= 0\n",
    "lista = []\n",
    "vetores = []\n",
    "lugares = 10\n",
    "colunas = list(df.columns)\n",
    "for i in colunas:\n",
    "    eu = float(df[i][index])\n",
    "    lista.append(eu)\n",
    "vetores.append(lista)\n",
    "s = 1\n",
    "while s < lugares:\n",
    "    for i in vetores:\n",
    "        \n",
    "        var = [ values/(s+1) for values in i]\n",
    "        s+=1\n",
    "    vetores.append(var)\n",
    "df_resultado = pd.DataFrame(data = vetores, columns=df.columns)\n",
    "#assentos = votos.copy()\n",
    "#for key in assentos: assentos[key] = 0"
   ]
  },
  {
   "cell_type": "code",
   "execution_count": 318,
   "metadata": {},
   "outputs": [
    {
     "data": {
      "text/html": [
       "<div>\n",
       "<style scoped>\n",
       "    .dataframe tbody tr th:only-of-type {\n",
       "        vertical-align: middle;\n",
       "    }\n",
       "\n",
       "    .dataframe tbody tr th {\n",
       "        vertical-align: top;\n",
       "    }\n",
       "\n",
       "    .dataframe thead th {\n",
       "        text-align: right;\n",
       "    }\n",
       "</style>\n",
       "<table border=\"1\" class=\"dataframe\">\n",
       "  <thead>\n",
       "    <tr style=\"text-align: right;\">\n",
       "      <th></th>\n",
       "      <th>a</th>\n",
       "      <th>b</th>\n",
       "      <th>c</th>\n",
       "      <th>g</th>\n",
       "    </tr>\n",
       "  </thead>\n",
       "  <tbody>\n",
       "    <tr>\n",
       "      <th>0</th>\n",
       "      <td>655.000000</td>\n",
       "      <td>465.000000</td>\n",
       "      <td>300.000000</td>\n",
       "      <td>785.000000</td>\n",
       "    </tr>\n",
       "    <tr>\n",
       "      <th>1</th>\n",
       "      <td>327.500000</td>\n",
       "      <td>232.500000</td>\n",
       "      <td>150.000000</td>\n",
       "      <td>392.500000</td>\n",
       "    </tr>\n",
       "    <tr>\n",
       "      <th>2</th>\n",
       "      <td>81.875000</td>\n",
       "      <td>58.125000</td>\n",
       "      <td>37.500000</td>\n",
       "      <td>98.125000</td>\n",
       "    </tr>\n",
       "    <tr>\n",
       "      <th>3</th>\n",
       "      <td>11.696429</td>\n",
       "      <td>8.303571</td>\n",
       "      <td>5.357143</td>\n",
       "      <td>14.017857</td>\n",
       "    </tr>\n",
       "    <tr>\n",
       "      <th>4</th>\n",
       "      <td>1.063312</td>\n",
       "      <td>0.754870</td>\n",
       "      <td>0.487013</td>\n",
       "      <td>1.274351</td>\n",
       "    </tr>\n",
       "  </tbody>\n",
       "</table>\n",
       "</div>"
      ],
      "text/plain": [
       "            a           b           c           g\n",
       "0  655.000000  465.000000  300.000000  785.000000\n",
       "1  327.500000  232.500000  150.000000  392.500000\n",
       "2   81.875000   58.125000   37.500000   98.125000\n",
       "3   11.696429    8.303571    5.357143   14.017857\n",
       "4    1.063312    0.754870    0.487013    1.274351"
      ]
     },
     "execution_count": 318,
     "metadata": {},
     "output_type": "execute_result"
    }
   ],
   "source": [
    "df_resultado"
   ]
  },
  {
   "cell_type": "code",
   "execution_count": 388,
   "metadata": {},
   "outputs": [
    {
     "name": "stdout",
     "output_type": "stream",
     "text": [
      "a:[655.         327.5         81.875       11.69642857   1.06331169]\n",
      "b:[465.         232.5         58.125        8.30357143   0.75487013]\n",
      "c:[300.         150.          37.5          5.35714286   0.48701299]\n",
      "g:[785.         392.5         98.125       14.01785714   1.27435065]\n"
     ]
    }
   ],
   "source": [
    "dicionario_resultados = {}\n",
    "for columns in list(df_resultado):\n",
    "    varo = df_resultado[columns].values\n",
    "    #dicionario_resultados.update(varo)\n",
    "    print(f'{columns}:{varo}')"
   ]
  },
  {
   "cell_type": "code",
   "execution_count": 317,
   "metadata": {},
   "outputs": [
    {
     "data": {
      "text/plain": [
       "['a', 'b', 'c', 'g']"
      ]
     },
     "execution_count": 317,
     "metadata": {},
     "output_type": "execute_result"
    }
   ],
   "source": [
    "list(df_resultado)\n",
    "\n",
    "    "
   ]
  },
  {
   "cell_type": "code",
   "execution_count": 306,
   "metadata": {},
   "outputs": [
    {
     "data": {
      "text/plain": [
       "[[655.0, 465.0, 300.0, 785.0],\n",
       " [327.5, 232.5, 150.0, 392.5],\n",
       " [81.875, 58.125, 37.5, 98.125],\n",
       " [11.696428571428571,\n",
       "  8.303571428571429,\n",
       "  5.357142857142857,\n",
       "  14.017857142857142],\n",
       " [1.0633116883116882,\n",
       "  0.7548701298701299,\n",
       "  0.48701298701298695,\n",
       "  1.2743506493506493]]"
      ]
     },
     "execution_count": 306,
     "metadata": {},
     "output_type": "execute_result"
    }
   ],
   "source": [
    "vetores"
   ]
  },
  {
   "cell_type": "code",
   "execution_count": null,
   "metadata": {},
   "outputs": [],
   "source": []
  }
 ],
 "metadata": {
  "kernelspec": {
   "display_name": "Python 3",
   "language": "python",
   "name": "python3"
  },
  "language_info": {
   "codemirror_mode": {
    "name": "ipython",
    "version": 3
   },
   "file_extension": ".py",
   "mimetype": "text/x-python",
   "name": "python",
   "nbconvert_exporter": "python",
   "pygments_lexer": "ipython3",
   "version": "3.10.4 (tags/v3.10.4:9d38120, Mar 23 2022, 23:13:41) [MSC v.1929 64 bit (AMD64)]"
  },
  "orig_nbformat": 4,
  "vscode": {
   "interpreter": {
    "hash": "b23e96e9000235e1d8fba2639f011a7c795a3ab50ce0f28a1a9cb5c7362660a5"
   }
  }
 },
 "nbformat": 4,
 "nbformat_minor": 2
}
